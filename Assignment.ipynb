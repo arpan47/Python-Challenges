{
 "cells": [
  {
   "cell_type": "code",
   "execution_count": null,
   "id": "0e119854",
   "metadata": {},
   "outputs": [],
   "source": [
    "#https://codeshare.io/X8PY8Y"
   ]
  },
  {
   "cell_type": "markdown",
   "id": "e8d478de",
   "metadata": {},
   "source": [
    "# 1. You have to write a function which will take string and return a len of it without using a inbuilt fun len."
   ]
  },
  {
   "cell_type": "code",
   "execution_count": 1,
   "id": "ec5a21dd",
   "metadata": {},
   "outputs": [],
   "source": [
    "def length(l):\n",
    "    \"\"\"\n",
    "    This function will return the length of the string\n",
    "    Input should be a string\n",
    "    Output will be in number\n",
    "    \"\"\"\n",
    "    if(type(l)==str):\n",
    "        count =0\n",
    "        for i in l:\n",
    "            count+=1\n",
    "        return count\n",
    "    else:\n",
    "        return \"Not A Valid String Data Type\""
   ]
  },
  {
   "cell_type": "code",
   "execution_count": 2,
   "id": "6df83f0b",
   "metadata": {},
   "outputs": [
    {
     "data": {
      "text/plain": [
       "5"
      ]
     },
     "execution_count": 2,
     "metadata": {},
     "output_type": "execute_result"
    }
   ],
   "source": [
    "length(\"Arpan\")"
   ]
  },
  {
   "cell_type": "code",
   "execution_count": 3,
   "id": "37c53f4e",
   "metadata": {},
   "outputs": [
    {
     "data": {
      "text/plain": [
       "'Not A Valid String Data Type'"
      ]
     },
     "execution_count": 3,
     "metadata": {},
     "output_type": "execute_result"
    }
   ],
   "source": [
    "length(123)"
   ]
  },
  {
   "cell_type": "markdown",
   "id": "cda61974",
   "metadata": {},
   "source": [
    "# 2. Write a function which will be able to print an index of all primitive element which you will pass"
   ]
  },
  {
   "cell_type": "code",
   "execution_count": 4,
   "id": "ca4808b7",
   "metadata": {},
   "outputs": [],
   "source": [
    "def index_print(a):\n",
    "    \"\"\"\n",
    "    This Function will help you to print primitive elements\n",
    "    Input types can be int, bool, float, str, list, tuple, set, dict\n",
    "    Output will be the index and the primitive elements, return type none \n",
    "    \"\"\"\n",
    "    if (type(a) == int or type(a) == bool or type(a) == float):\n",
    "        #print(type(a))\n",
    "        print(\"Primitive element : \", a)\n",
    "    elif(type(a)==list or type(a)==tuple or type(a)==str):\n",
    "        #print(type(a))\n",
    "        for i in range(len(a)) : \n",
    "            if (type(a[i]) == int or type(a[i]) == bool or type(a[i]) == float or type(a[i]) == str or type(a[i]) == complex):\n",
    "                print(\"index \", i , \" for primitive element : \", a[i])\n",
    "    elif(type(a)==set):\n",
    "        #print(type(a))\n",
    "        a=list(a)\n",
    "        for i in range(len(a)) :\n",
    "            if (type(a[i]) == int or type(a[i]) == bool or type(a[i]) == float or type(a[i]) == str or type(a[i]) == complex):\n",
    "                print(\"index \", i , \" for primitive element : \", a[i])\n",
    "    elif(type(a)==dict):\n",
    "        #print(type(a))\n",
    "        k=-1\n",
    "        for i in a:\n",
    "            k+=1\n",
    "            if(type(a[i]) == int or type(a[i]) == bool or type(a[i]) == float or type(a[i]) == str or type(a[i]) == complex):\n",
    "                if(type(i) == int or type(i) == bool or type(i) == float or type(i) == str or type(i) == complex):\n",
    "                    print(\"index \",k, 'key',i,\" for primitive element : \", a[i])\n",
    "                    \n",
    "    else:\n",
    "        print(\"Data type not supported\",type(a))"
   ]
  },
  {
   "cell_type": "code",
   "execution_count": 5,
   "id": "527536bf",
   "metadata": {},
   "outputs": [
    {
     "name": "stdout",
     "output_type": "stream",
     "text": [
      "index  0  for primitive element :  1\n",
      "index  1  for primitive element :  arpan\n",
      "index  2  for primitive element :  111\n",
      "index  3  for primitive element :  222\n",
      "index  7  for primitive element :  45.5\n",
      "index  8  for primitive element :  True\n",
      "index  10  for primitive element :  (1+3j)\n"
     ]
    }
   ],
   "source": [
    "index_print([1,'arpan',111,222,(33,44,55,66, False, 334.44),{44 : 'AB', 45 : 'BC', True : 34.55, 45.55 : False},\n",
    "             [33,34,35],45.5, True,{12,23,334,445},(1+3j)])"
   ]
  },
  {
   "cell_type": "code",
   "execution_count": 6,
   "id": "70ef7410",
   "metadata": {},
   "outputs": [
    {
     "name": "stdout",
     "output_type": "stream",
     "text": [
      "index  0  for primitive element :  1\n",
      "index  1  for primitive element :  arpan\n",
      "index  2  for primitive element :  111\n",
      "index  3  for primitive element :  222\n",
      "index  7  for primitive element :  45.5\n",
      "index  8  for primitive element :  True\n",
      "index  9  for primitive element :  (1+3j)\n"
     ]
    }
   ],
   "source": [
    "index_print((1,'arpan',111,222,(33,44,55,66, False, 334.44),{44 : 'AB', 45 : 'BC', True : 34.55, 45.55 : False},\n",
    "             [33,34,35],45.5, True,(1+3j)))"
   ]
  },
  {
   "cell_type": "code",
   "execution_count": 7,
   "id": "a9db6e43",
   "metadata": {},
   "outputs": [
    {
     "name": "stdout",
     "output_type": "stream",
     "text": [
      "index  0  for primitive element :  A\n",
      "index  1  for primitive element :  r\n",
      "index  2  for primitive element :  p\n",
      "index  3  for primitive element :  a\n",
      "index  4  for primitive element :  n\n",
      "index  5  for primitive element :   \n",
      "index  6  for primitive element :  M\n",
      "index  7  for primitive element :  a\n",
      "index  8  for primitive element :  i\n",
      "index  9  for primitive element :  t\n",
      "index  10  for primitive element :  y\n"
     ]
    }
   ],
   "source": [
    "index_print('Arpan Maity')"
   ]
  },
  {
   "cell_type": "code",
   "execution_count": 8,
   "id": "d04fa804",
   "metadata": {},
   "outputs": [
    {
     "name": "stdout",
     "output_type": "stream",
     "text": [
      "index  0  for primitive element :  False\n",
      "index  1  for primitive element :  1\n",
      "index  2  for primitive element :  2\n",
      "index  3  for primitive element :  3\n",
      "index  4  for primitive element :  34\n",
      "index  5  for primitive element :  (1+55j)\n",
      "index  6  for primitive element :  44.44\n",
      "index  8  for primitive element :  334\n"
     ]
    }
   ],
   "source": [
    "index_print({1,2,2,3,34,334,44.44, False,True,None, (1+ 55j)})"
   ]
  },
  {
   "cell_type": "code",
   "execution_count": 9,
   "id": "718a6d75",
   "metadata": {},
   "outputs": [
    {
     "name": "stdout",
     "output_type": "stream",
     "text": [
      "index  0  for primitive element :  False\n",
      "index  1  for primitive element :  True\n"
     ]
    }
   ],
   "source": [
    "index_print({False,None,True})"
   ]
  },
  {
   "cell_type": "code",
   "execution_count": 10,
   "id": "038113ee",
   "metadata": {},
   "outputs": [
    {
     "name": "stdout",
     "output_type": "stream",
     "text": [
      "index  0  for primitive element :  arpan\n",
      "index  1  for primitive element :  1\n",
      "index  2  for primitive element :  False\n",
      "index  3  for primitive element :  44.44\n"
     ]
    }
   ],
   "source": [
    "index_print({1,44.44,True, 'arpan', False ,None})"
   ]
  },
  {
   "cell_type": "code",
   "execution_count": 11,
   "id": "b17e9a6f",
   "metadata": {
    "scrolled": true
   },
   "outputs": [
    {
     "name": "stdout",
     "output_type": "stream",
     "text": [
      "index  0 key 4  for primitive element :  dd\n",
      "index  1 key 1  for primitive element :  Arpan\n",
      "index  2 key 2  for primitive element :  Rupak\n",
      "index  3 key 3  for primitive element :  Shubham\n",
      "index  6 key (1+99j)  for primitive element :  77j\n",
      "index  7 key ss  for primitive element :  SSS\n",
      "index  8 key False  for primitive element :  WWW\n"
     ]
    }
   ],
   "source": [
    "index_print({4 : 'dd', 1 : 'Arpan', 2 : 'Rupak', 3 : 'Shubham',  5 : [12,23,45,'aa'], (33,88) : {34, 89},\n",
    "             (1+99j) : (77j), 'ss' : 'SSS', False : 'WWW'\n",
    "            })"
   ]
  },
  {
   "cell_type": "code",
   "execution_count": 12,
   "id": "5840388f",
   "metadata": {},
   "outputs": [
    {
     "name": "stdout",
     "output_type": "stream",
     "text": [
      "Primitive element :  True\n"
     ]
    }
   ],
   "source": [
    "index_print(True)"
   ]
  },
  {
   "cell_type": "code",
   "execution_count": 13,
   "id": "ffeec849",
   "metadata": {},
   "outputs": [
    {
     "name": "stdout",
     "output_type": "stream",
     "text": [
      "Primitive element :  False\n"
     ]
    }
   ],
   "source": [
    "index_print(False)"
   ]
  },
  {
   "cell_type": "code",
   "execution_count": 14,
   "id": "7ee38bb1",
   "metadata": {},
   "outputs": [
    {
     "name": "stdout",
     "output_type": "stream",
     "text": [
      "Data type not supported <class 'NoneType'>\n"
     ]
    }
   ],
   "source": [
    "index_print(None)"
   ]
  },
  {
   "cell_type": "code",
   "execution_count": 15,
   "id": "97a77ff0",
   "metadata": {},
   "outputs": [
    {
     "name": "stdout",
     "output_type": "stream",
     "text": [
      "Primitive element :  55.67\n"
     ]
    }
   ],
   "source": [
    "index_print(55.67)"
   ]
  },
  {
   "cell_type": "markdown",
   "id": "dea94813",
   "metadata": {},
   "source": [
    "# 3. Write a function which will take input as a dict and give output as a list of all the values even in case of 2 level nesting it should work."
   ]
  },
  {
   "cell_type": "code",
   "execution_count": 16,
   "id": "9252f273",
   "metadata": {},
   "outputs": [],
   "source": [
    "def dict_to_list_avs(a):\n",
    "    \"\"\"\n",
    "    dict_to_list function will convert the dict to list written by Arpan\n",
    "    This function will take input as dict\n",
    "    And will return all keys and values as a non-nested list\n",
    "    \"\"\"\n",
    "    list1=[]\n",
    "    if(type(a)==dict):\n",
    "        for i in a:\n",
    "            # checking the dict keys\n",
    "            if(type(i) == int or type(i) == bool or type(i) == float or type(i) == str or type(i) == complex):\n",
    "                list1.append(i)\n",
    "            elif(type(i)==tuple):\n",
    "                for x in range(len(i)):\n",
    "                    if (type(i[x]) == int or type(i[x]) == bool or type(i[x]) == float or type(i[x]) == str or i[x] == complex):\n",
    "                        list1.append(i[x])\n",
    "            else:\n",
    "                pass\n",
    "            \n",
    "            # checking the dict values\n",
    "            if(type(a[i]) == int or type(a[i]) == bool or type(a[i]) == float or type(a[i]) == str or type(a[i]) == complex):\n",
    "                list1.append(a[i])\n",
    "            elif(type(a[i])==list or type(a[i])==tuple):\n",
    "                for x in range(len(a[i])):\n",
    "                    if (type(a[i][x]) == int or type(a[i][x]) == bool or type(a[i][x]) == float or type(a[i][x]) == str):\n",
    "                        list1.append(a[i][x])\n",
    "            elif(type(a[i])==set):\n",
    "                a[i] = list(a[i])\n",
    "                for x in range(len(a[i])):\n",
    "                    if (type(a[i][x]) == int or type(a[i][x]) == bool or type(a[i][x]) == float or type(a[i][x]) == str):\n",
    "                        list1.append(a[i][x])\n",
    "            elif(type(a[i])==dict):\n",
    "                list1.extend(dict_to_list_avs(a[i])) # recursive call\n",
    "            else:\n",
    "                pass         \n",
    "    else:\n",
    "        #list.append(i)\n",
    "        pass\n",
    "    return list1"
   ]
  },
  {
   "cell_type": "code",
   "execution_count": 17,
   "id": "3f0c38e2",
   "metadata": {},
   "outputs": [
    {
     "data": {
      "text/plain": [
       "[4,\n",
       " 'dd',\n",
       " 1,\n",
       " 'Arpan',\n",
       " 2,\n",
       " 'Rupak',\n",
       " 3,\n",
       " 'Shubham',\n",
       " 33,\n",
       " 334,\n",
       " 6677,\n",
       " 890,\n",
       " 12,\n",
       " 23,\n",
       " 45,\n",
       " 'aa',\n",
       " 33,\n",
       " 88,\n",
       " 89,\n",
       " 34,\n",
       " (1+4j),\n",
       " 'KK',\n",
       " 111,\n",
       " 112,\n",
       " 113,\n",
       " 'JJJ',\n",
       " 'KK1',\n",
       " '1A',\n",
       " '2B',\n",
       " 'JJJ1',\n",
       " 'KK12',\n",
       " 11112,\n",
       " 'JJJ12',\n",
       " 'HH1',\n",
       " 'KK123',\n",
       " 111123,\n",
       " 'JJJ123',\n",
       " 'India',\n",
       " 'Dhoni',\n",
       " 'fff',\n",
       " 66,\n",
       " 44,\n",
       " 22,\n",
       " 55,\n",
       " 'sss',\n",
       " 222222,\n",
       " 444444,\n",
       " 'lll',\n",
       " 'rrr',\n",
       " 44,\n",
       " 55]"
      ]
     },
     "execution_count": 17,
     "metadata": {},
     "output_type": "execute_result"
    }
   ],
   "source": [
    "#lll = \n",
    "dict_to_list_avs({\n",
    "    4 : 'dd', 1 : 'Arpan', 2 : 'Rupak', 3 : 'Shubham',  \n",
    "    (33,334,6677,890) : [12,23,45,'aa'], (33,88) : {34, 89}, \n",
    "    (1+4j) : {'KK' : [111,112,113], 'JJJ' : {'KK1' : ('1A','2B'), 'JJJ1' : {'KK12' : 11112, ('JJJ12', 'HH1') : {'KK123' : 111123, 'JJJ123' : {'India','Dhoni'}}}}},\n",
    "    'fff' : {22, 55, 44 , 66},\n",
    "    'sss' : [222222,444444],\n",
    "    'lll' : 'rrr', 44 : 55 \n",
    "    }) #51\n",
    "#len(lll)"
   ]
  },
  {
   "cell_type": "code",
   "execution_count": 18,
   "id": "de7ac9e4",
   "metadata": {},
   "outputs": [
    {
     "data": {
      "text/plain": [
       "[(1+4j),\n",
       " 'KK',\n",
       " 111,\n",
       " 112,\n",
       " 113,\n",
       " 'JJJ',\n",
       " 'KK1',\n",
       " '1A',\n",
       " '2B',\n",
       " 'JJJ1',\n",
       " 'KK12',\n",
       " 11112,\n",
       " 'JJJ12',\n",
       " 'HH1',\n",
       " 'KK123',\n",
       " 111123,\n",
       " 'JJJ123',\n",
       " 'India',\n",
       " 'Dhoni']"
      ]
     },
     "execution_count": 18,
     "metadata": {},
     "output_type": "execute_result"
    }
   ],
   "source": [
    "l = {(1+4j) : {'KK' : [111,112,113], 'JJJ' : \n",
    "              {'KK1' : ('1A','2B'), 'JJJ1' : \n",
    "               {'KK12' : 11112, ('JJJ12', 'HH1') : \n",
    "                {'KK123' : 111123, 'JJJ123': \n",
    "                 {'India','Dhoni'}\n",
    "                }\n",
    "               }\n",
    "              }\n",
    "             }\n",
    "    }\n",
    "dict_to_list_avs(l)   "
   ]
  },
  {
   "cell_type": "code",
   "execution_count": 19,
   "id": "7a8f7567",
   "metadata": {},
   "outputs": [],
   "source": [
    "def dict_to_list_basic(d):\n",
    "    \"\"\"\n",
    "    dict_to_list function will convert the dict to list\n",
    "    This function will take input as dict\n",
    "    And will return all values as list \n",
    "    if any tuple, list, dict and set found inside the dict it will be included in list as it is\n",
    "    \"\"\"\n",
    "    l = []\n",
    "    for i in d: \n",
    "        if type(d[i]) == dict:\n",
    "            l.extend(dict_to_list_basic(d[i]))\n",
    "        else: \n",
    "            l.append(d[i])\n",
    "    return l"
   ]
  },
  {
   "cell_type": "code",
   "execution_count": 20,
   "id": "ff679391",
   "metadata": {},
   "outputs": [
    {
     "data": {
      "text/plain": [
       "['dd',\n",
       " 'Arpan',\n",
       " 'Rupak',\n",
       " 'Shubham',\n",
       " [12, 23, 45, 'aa'],\n",
       " {34, 89},\n",
       " 111,\n",
       " 1111,\n",
       " 11112,\n",
       " 111123,\n",
       " {'Dhoni', 'India'},\n",
       " {22, 44, 55, 66},\n",
       " [222222, 444444],\n",
       " (1111111111, 4444444444),\n",
       " 'rrr',\n",
       " 55]"
      ]
     },
     "execution_count": 20,
     "metadata": {},
     "output_type": "execute_result"
    }
   ],
   "source": [
    "dict_to_list_basic({4 : 'dd', 1 : 'Arpan', 2 : 'Rupak', 3 : 'Shubham',  \n",
    "    (33,334,6677,890) : [12,23,45,'aa'], (33,88) : {34, 89},\n",
    "    (1+4j) : {'KK' : 111, 'JJJ' : {'KK1' : 1111, 'JJJ1' : {'KK12' : 11112, 'JJJ12' : {'KK123' : 111123, 'JJJ123': {'India','Dhoni'}}}}},\n",
    "    'fff' : {22, 55, 44 , 66},\n",
    "     'sss' : [222222,444444],\n",
    "     'shadhu' : (1111111111, 4444444444),\n",
    "     'lll' : 'rrr', 44 : 55\n",
    "    })"
   ]
  },
  {
   "cell_type": "markdown",
   "id": "8f41fcef",
   "metadata": {},
   "source": [
    "# 4. Write a function which will take another function as an input and return me an output "
   ]
  },
  {
   "cell_type": "code",
   "execution_count": 142,
   "id": "a5269ee7",
   "metadata": {},
   "outputs": [],
   "source": [
    "def power(n0,powr):\n",
    "    \"\"\"\n",
    "    Power Function \n",
    "    \"\"\"\n",
    "    return int(n0) ** int(powr)\n",
    "\n",
    "def add(n0,n1):\n",
    "    \"\"\"\n",
    "    Addition Function\n",
    "    \"\"\"\n",
    "    return int(n0) + int(n1)\n",
    "\n",
    "def sub(n0,n1):\n",
    "    \"\"\"\n",
    "    Subtraction Function\n",
    "    \"\"\"\n",
    "    return int(n0) - int(n1)\n",
    "\n",
    "def mul(n0,n1):\n",
    "    \"\"\"\n",
    "    Multiplication Function\n",
    "    \"\"\"\n",
    "    return int(n0) * int(n1)\n",
    "\n",
    "def div(n0,n1):\n",
    "    \"\"\"\n",
    "    Divison Function\n",
    "    \"\"\"\n",
    "    try:\n",
    "        return int(n0) / int(n1)\n",
    "    except Exception as e:\n",
    "        return e.__class__"
   ]
  },
  {
   "cell_type": "code",
   "execution_count": 175,
   "id": "01b60d6a",
   "metadata": {},
   "outputs": [],
   "source": [
    "def opr(function, n0, n1):\n",
    "    \"\"\"\n",
    "    This function is used to call builtin functions like power, add, sub, mul, div\n",
    "    Inputs are as follows function_name, Number 1 , Number 2\n",
    "    \"\"\"\n",
    "    try:\n",
    "        if(function == power or function == add or function == sub or function == mul or function == div):\n",
    "            return function(n0, n1)\n",
    "        elif (function == coc):\n",
    "            return \"check the function name\"\n",
    "    except NameError:\n",
    "        return NameError\n",
    "    except Exception as e1:    \n",
    "        return e1.__class__"
   ]
  },
  {
   "cell_type": "code",
   "execution_count": 176,
   "id": "c22226de",
   "metadata": {},
   "outputs": [
    {
     "data": {
      "text/plain": [
       "27"
      ]
     },
     "execution_count": 176,
     "metadata": {},
     "output_type": "execute_result"
    }
   ],
   "source": [
    "opr(power, 3,3)"
   ]
  },
  {
   "cell_type": "code",
   "execution_count": 177,
   "id": "12cd148a",
   "metadata": {},
   "outputs": [
    {
     "data": {
      "text/plain": [
       "57"
      ]
     },
     "execution_count": 177,
     "metadata": {},
     "output_type": "execute_result"
    }
   ],
   "source": [
    "opr(add,23,34)"
   ]
  },
  {
   "cell_type": "code",
   "execution_count": 178,
   "id": "e32930f2",
   "metadata": {},
   "outputs": [
    {
     "data": {
      "text/plain": [
       "15"
      ]
     },
     "execution_count": 178,
     "metadata": {},
     "output_type": "execute_result"
    }
   ],
   "source": [
    "opr(sub,56,41)"
   ]
  },
  {
   "cell_type": "code",
   "execution_count": 179,
   "id": "ff1fcbfd",
   "metadata": {},
   "outputs": [
    {
     "data": {
      "text/plain": [
       "20"
      ]
     },
     "execution_count": 179,
     "metadata": {},
     "output_type": "execute_result"
    }
   ],
   "source": [
    "opr(mul,4,5)"
   ]
  },
  {
   "cell_type": "code",
   "execution_count": 180,
   "id": "f286c9bd",
   "metadata": {},
   "outputs": [
    {
     "data": {
      "text/plain": [
       "ZeroDivisionError"
      ]
     },
     "execution_count": 180,
     "metadata": {},
     "output_type": "execute_result"
    }
   ],
   "source": [
    "opr(div,3,0)"
   ]
  },
  {
   "cell_type": "code",
   "execution_count": 181,
   "id": "cf74098f",
   "metadata": {},
   "outputs": [
    {
     "data": {
      "text/plain": [
       "ZeroDivisionError"
      ]
     },
     "execution_count": 181,
     "metadata": {},
     "output_type": "execute_result"
    }
   ],
   "source": [
    "div(3,0)"
   ]
  },
  {
   "cell_type": "code",
   "execution_count": 182,
   "id": "70082dba",
   "metadata": {},
   "outputs": [
    {
     "data": {
      "text/plain": [
       "16.5"
      ]
     },
     "execution_count": 182,
     "metadata": {},
     "output_type": "execute_result"
    }
   ],
   "source": [
    "opr(div,33,2)"
   ]
  },
  {
   "cell_type": "code",
   "execution_count": 184,
   "id": "98eb11ce",
   "metadata": {},
   "outputs": [
    {
     "ename": "NameError",
     "evalue": "name 'coc' is not defined",
     "output_type": "error",
     "traceback": [
      "\u001b[1;31m---------------------------------------------------------------------------\u001b[0m",
      "\u001b[1;31mNameError\u001b[0m                                 Traceback (most recent call last)",
      "\u001b[1;32m~\\AppData\\Local\\Temp/ipykernel_8164/1023952705.py\u001b[0m in \u001b[0;36m<module>\u001b[1;34m\u001b[0m\n\u001b[1;32m----> 1\u001b[1;33m \u001b[0mopr\u001b[0m\u001b[1;33m(\u001b[0m\u001b[0mcoc\u001b[0m\u001b[1;33m,\u001b[0m\u001b[1;36m12\u001b[0m\u001b[1;33m,\u001b[0m\u001b[1;36m33\u001b[0m\u001b[1;33m)\u001b[0m     \u001b[1;31m# why the code is not handled by the exception block\u001b[0m\u001b[1;33m\u001b[0m\u001b[1;33m\u001b[0m\u001b[0m\n\u001b[0m",
      "\u001b[1;31mNameError\u001b[0m: name 'coc' is not defined"
     ]
    }
   ],
   "source": [
    "opr(coc,12,33)     # why the code is not handled by the exception block"
   ]
  },
  {
   "cell_type": "markdown",
   "id": "91a8eab1",
   "metadata": {},
   "source": [
    "# 5. Write a function which will take multiple list as a input and give me concatenation of all the element as an output "
   ]
  },
  {
   "cell_type": "code",
   "execution_count": 22,
   "id": "7c955859",
   "metadata": {},
   "outputs": [],
   "source": [
    "def to_list(a):\n",
    "    \"\"\"\n",
    "    This function can take input as any list,tuple,set and dict elements\n",
    "    Output will be a list of all elements in infinite level\n",
    "    \"\"\"\n",
    "    list1=[]\n",
    "    if(type(a)==dict):\n",
    "        for i in a:\n",
    "            # checking the dict keys\n",
    "            if(type(i) == int or type(i) == bool or type(i) == float or type(i) == str or type(i) == complex):\n",
    "                list1.append(i)\n",
    "            elif(type(i)==tuple):\n",
    "                for x in range(len(i)):\n",
    "                    if (type(i[x]) == int or type(i[x]) == bool or type(i[x]) == float or type(i[x]) == str or i[x] == complex):\n",
    "                        list1.append(i[x])\n",
    "                    else:\n",
    "                        list1.extend(to_list(i[x])) # recursive call\n",
    "            else:\n",
    "                list1.append(i)\n",
    "                print(type(i),\"dict key block\")\n",
    "                print(i)\n",
    "            \n",
    "            # checking the dict values\n",
    "            if(type(a[i]) == int or type(a[i]) == bool or type(a[i]) == float or type(a[i]) == str or type(a[i]) == complex):\n",
    "                list1.append(a[i])\n",
    "            elif(type(a[i])==list or type(a[i])==tuple):\n",
    "                for x in range(len(a[i])):\n",
    "                    if (type(a[i][x]) == int or type(a[i][x]) == bool or type(a[i][x]) == float or type(a[i][x]) == str):\n",
    "                        list1.append(a[i][x])\n",
    "                    else:\n",
    "                        list1.extend(to_list(a[i][x])) # recursive call\n",
    "            elif(type(a[i])==set):\n",
    "                a[i] = list(a[i])\n",
    "                for x in range(len(a[i])):\n",
    "                    if (type(a[i][x]) == int or type(a[i][x]) == bool or type(a[i][x]) == float or type(a[i][x]) == str):\n",
    "                        list1.append(a[i][x])\n",
    "                    else:\n",
    "                        list1.extend(to_list(a[i][x])) # recursive call\n",
    "            elif(type(a[i])==dict):\n",
    "                list1.extend(to_list(a[i])) # recursive call\n",
    "            else:\n",
    "                list1.extend(to_list(a[i])) # recursive call\n",
    "                print(type(a[i]),\"dict value block\")\n",
    "                print([i])\n",
    "    elif(type(a)==list):\n",
    "        for i in a:\n",
    "            if(type(i) == int or type(i) == bool or type(i) == float or type(i) == str or type(i) == complex):\n",
    "                list1.append(i)\n",
    "            elif (type(i)==tuple):\n",
    "                for x in range(len(i)):\n",
    "                    if (type(i[x]) == int or type(i[x]) == bool or type(i[x]) == float or type(i[x]) == str or i[x] == complex):\n",
    "                        list1.append(i[x])\n",
    "                    else:\n",
    "                        list1.extend(to_list(i[x])) # recursive call\n",
    "            elif (type(i) == list):\n",
    "                for x in range(len(i)):\n",
    "                    if (type(i[x]) == int or type(i[x]) == bool or type(i[x]) == float or type(i[x]) == str or i[x] == complex):\n",
    "                        list1.append(i[x])\n",
    "                    else:\n",
    "                        list1.extend(to_list(i[x])) # recursive call\n",
    "            elif (type(i)==set):\n",
    "                i = list(i)\n",
    "                for x in range(len(i)):\n",
    "                    if (type(i[x]) == int or type(i[x]) == bool or type(i[x]) == float or type(i[x]) == str or i[x] == complex):\n",
    "                        list1.append(i[x])\n",
    "                    else:\n",
    "                        list1.extend(to_list(i[x])) # recursive call\n",
    "            elif (type(i)==dict):\n",
    "                list1.extend(to_list(i)) # recursive call\n",
    "            else:\n",
    "                list1.extend(to_list(i)) # recursive call\n",
    "                print(type(i),\"list block\")\n",
    "                print(i)\n",
    "    elif(type(a)==tuple):\n",
    "        for i in a:\n",
    "            if(type(i) == int or type(i) == bool or type(i) == float or type(i) == str or type(i) == complex):\n",
    "                list1.append(i)\n",
    "            elif (type(i)==tuple):\n",
    "                for x in range(len(i)):\n",
    "                    if (type(i[x]) == int or type(i[x]) == bool or type(i[x]) == float or type(i[x]) == str or i[x] == complex):\n",
    "                        list1.append(i[x])\n",
    "                    else:\n",
    "                        list1.extend(to_list(i[x])) # recursive call\n",
    "            elif (type(i) == list):\n",
    "                for x in range(len(i)):\n",
    "                    if (type(i[x]) == int or type(i[x]) == bool or type(i[x]) == float or type(i[x]) == str or i[x] == complex):\n",
    "                        list1.append(i[x])\n",
    "                    else:\n",
    "                        list1.extend(to_list(i[x])) # recursive call\n",
    "            elif (type(i)==set):\n",
    "                i = list(i)\n",
    "                for x in range(len(i)):\n",
    "                    if (type(i[x]) == int or type(i[x]) == bool or type(i[x]) == float or type(i[x]) == str or i[x] == complex):\n",
    "                        list1.append(i[x])\n",
    "                    else:\n",
    "                        list1.extend(to_list(i[x])) # recursive call\n",
    "            elif (type(i)==dict):\n",
    "                list1.extend(to_list(i)) # recursive call\n",
    "            else:\n",
    "                list1.extend(to_list(i)) # recursive call\n",
    "                print(type(i),\"tuple block\")\n",
    "                print(i)\n",
    "    elif(type(a)==set):\n",
    "        for i in a:\n",
    "            if(type(i) == int or type(i) == bool or type(i) == float or type(i) == str or type(i) == complex):\n",
    "                list1.append(i)\n",
    "            elif (type(i)==tuple):\n",
    "                for x in range(len(i)):\n",
    "                    if (type(i[x]) == int or type(i[x]) == bool or type(i[x]) == float or type(i[x]) == str or i[x] == complex):\n",
    "                        list1.append(i[x])\n",
    "                    else:\n",
    "                        list1.extend(to_list(i[x])) # recursive call\n",
    "            else:\n",
    "                list1.append(i)\n",
    "                print(type(i),\"set block\")\n",
    "                print(i)\n",
    "    #elif(type(a)!=list or type(a)!=tuple or type(a)!=set or type(a)!=dict):\n",
    "        #list1.append(a)\n",
    "    else:\n",
    "        print(type(a),\"outer block\")\n",
    "        print(a)\n",
    "    return list1"
   ]
  },
  {
   "cell_type": "code",
   "execution_count": 25,
   "id": "4d8afa6c",
   "metadata": {},
   "outputs": [],
   "source": [
    "def list_conc(*argv):\n",
    "    \"\"\"\n",
    "    This function will concatenate list,tuple,set and dict elements\n",
    "    Input will be multiple lists,tuples,sets and dicts elements\n",
    "    Output will be elements of that list in string concatenated with a space\n",
    "    \"\"\"\n",
    "    li1 = []\n",
    "    for arg in argv:\n",
    "        li1.extend(to_list(arg))\n",
    "        \n",
    "    st,s = '',''\n",
    "    if(type(li1)==list):\n",
    "        for i in li1 :\n",
    "            if (type(i) == int or type(i) == bool or type(i) == float or type(i) == str or type(i) == complex):\n",
    "                st = st + ' ' + str(i)\n",
    "    else:\n",
    "        pass\n",
    "    if st[0] == ' ':\n",
    "        for i in range(1,len(st)):\n",
    "            s = s +''+ st[i]\n",
    "    else:\n",
    "        s = st\n",
    "    return s"
   ]
  },
  {
   "cell_type": "code",
   "execution_count": 26,
   "id": "a0861586",
   "metadata": {},
   "outputs": [
    {
     "data": {
      "text/plain": [
       "'4 dd 1 Arpan 2 Rupak 3 Shubham 33 334 6677 890 12 23 45 aa 33 88 89 34 (1+4j) KK 111 112 113 11 www True False (12+13j) 33 334 6677 890 12 23 45 aa dad adad sfsf eee 122 12 34 lll rrr 44 55 JJJ KK1 1A 2B JJJ1 i n e u 11112 JJJ12 HH1 KK123 111123 JJJ123 India Dhoni fff 66 44 22 55 sss 222222 444444 lll rrr 44 55'"
      ]
     },
     "execution_count": 26,
     "metadata": {},
     "output_type": "execute_result"
    }
   ],
   "source": [
    "list_conc({\n",
    "    4 : 'dd', 1 : 'Arpan', 2 : 'Rupak', 3 : 'Shubham',  \n",
    "    (33,334,6677,890) : [12,23,45,'aa'], (33,88) : {34, 89}, \n",
    "    (1+4j) : {'KK' : [111,112,113,[11,'www',True, False, (12 + 13j),\n",
    "                                   (33,334,6677,890), [12,23,45,'aa',\n",
    "                                                       ['dad','adad',['sfsf','eee']]], \n",
    "                                   {12,122,34},{'lll' : 'rrr', 44 : 55}]],\n",
    "    'JJJ' : {'KK1' : ('1A','2B'), 'JJJ1' : {('i','n','e','u') : 11112, ('JJJ12', 'HH1') : {'KK123' : 111123, 'JJJ123' : {'India','Dhoni'}}}}},\n",
    "    'fff' : {22, 55, 44 , 66},\n",
    "    'sss' : [222222,444444],\n",
    "    'lll' : 'rrr', 44 : 55\n",
    "    })"
   ]
  },
  {
   "cell_type": "code",
   "execution_count": 27,
   "id": "d34b053b",
   "metadata": {},
   "outputs": [
    {
     "data": {
      "text/plain": [
       "'Arpan 27 IT Engineer True False 87.9 math 96 physics 85 333 222'"
      ]
     },
     "execution_count": 27,
     "metadata": {},
     "output_type": "execute_result"
    }
   ],
   "source": [
    "list_conc([['Arpan', 27, 'IT Engineer', True, False, 87.9], ['math', 96, 'physics', 85],{222,333}])"
   ]
  },
  {
   "cell_type": "code",
   "execution_count": 28,
   "id": "a88ddce2",
   "metadata": {},
   "outputs": [
    {
     "data": {
      "text/plain": [
       "'Arpan 27 IT Engineer True 11 22 555 334 333 999 kkk 111 ccc 222 False 87.9 math 96 physics 85'"
      ]
     },
     "execution_count": 28,
     "metadata": {},
     "output_type": "execute_result"
    }
   ],
   "source": [
    "list_conc(['Arpan', 27, 'IT Engineer', True,(11,22),{334,555}, [333, 999],{'kkk' : 111, 'ccc' : 222}, False, 87.9], ['math', 96, 'physics', 85])"
   ]
  },
  {
   "cell_type": "code",
   "execution_count": 29,
   "id": "f27b3947",
   "metadata": {},
   "outputs": [
    {
     "name": "stdout",
     "output_type": "stream",
     "text": [
      "<class 'str'> outer block\n",
      "\n",
      "<class 'str'> outer block\n",
      "\n"
     ]
    },
    {
     "data": {
      "text/plain": [
       "'Arpan 27 IT Engineer True False 87.9 math 96 physics 85 ineuron class'"
      ]
     },
     "execution_count": 29,
     "metadata": {},
     "output_type": "execute_result"
    }
   ],
   "source": [
    "list_conc(['Arpan', 27, 'IT Engineer', True, False, 87.9], ['math', 96, 'physics', 85], ['ineuron', 'class'],'','')"
   ]
  },
  {
   "cell_type": "markdown",
   "id": "58faf95c",
   "metadata": {},
   "source": [
    "# 6. Write a function which will be able to take a list as an input return an index of each element "
   ]
  },
  {
   "cell_type": "code",
   "execution_count": 190,
   "id": "7dd3cf27",
   "metadata": {},
   "outputs": [],
   "source": [
    "def ind_lis(liss):\n",
    "    \"\"\"\n",
    "    This function will take input as list\n",
    "    Output will be the index, type and value of each elements\n",
    "    \"\"\"\n",
    "    if type(liss) == list:\n",
    "        for i in range(len(liss)):\n",
    "            print(\"index\\t\", i , \"\\ttype     \", type(liss[i]), \"\\telement    \", liss[i])"
   ]
  },
  {
   "cell_type": "code",
   "execution_count": 191,
   "id": "6f514a6f",
   "metadata": {},
   "outputs": [
    {
     "name": "stdout",
     "output_type": "stream",
     "text": [
      "index\t 0 \ttype      <class 'int'> \telement     11\n",
      "index\t 1 \ttype      <class 'float'> \telement     12.34\n",
      "index\t 2 \ttype      <class 'bool'> \telement     True\n",
      "index\t 3 \ttype      <class 'bool'> \telement     False\n",
      "index\t 4 \ttype      <class 'complex'> \telement     (1+4j)\n",
      "index\t 5 \ttype      <class 'str'> \telement     Arpan\n",
      "index\t 6 \ttype      <class 'list'> \telement     ['coco', 'cola']\n",
      "index\t 7 \ttype      <class 'tuple'> \telement     ('Hi', 12)\n",
      "index\t 8 \ttype      <class 'set'> \telement     {33, 22}\n",
      "index\t 9 \ttype      <class 'dict'> \telement     {1: 'A', 2: 'B'}\n",
      "index\t 10 \ttype      <class 'NoneType'> \telement     None\n"
     ]
    }
   ],
   "source": [
    "ind_lis([11,12.34,True, False, (1+4j), 'Arpan', ['coco', 'cola'], ('Hi', 12), {22,33}, {1 : 'A', 2 : 'B'}, None])"
   ]
  },
  {
   "cell_type": "markdown",
   "id": "a833d88e",
   "metadata": {},
   "source": [
    "# 7. Write a function which will would return list of all the file name from a directory. "
   ]
  },
  {
   "cell_type": "code",
   "execution_count": 192,
   "id": "f7a1c478",
   "metadata": {},
   "outputs": [],
   "source": [
    "def list_directory(path):\n",
    "    \"\"\"\n",
    "    Pass the directory as string mentioned\n",
    "    \n",
    "    Since paths can contain backslashes, we need to prevent backslashes from\n",
    "    being used as the escape character. A common technique is to escape the backslash.\n",
    "    example : \"C://Program Files (x86)\"\n",
    "    \n",
    "    Another way is to convert paths into Python raw strings using the r directive,\n",
    "    as shown below. This instructs Python to ignore backslashes\n",
    "    example : r\"C:\\Program Files\"\n",
    "    \n",
    "    \"\"\"\n",
    "    import os\n",
    "    files = os.listdir(path)\n",
    "    for f in files:\n",
    "        print(f)"
   ]
  },
  {
   "cell_type": "code",
   "execution_count": 193,
   "id": "28a2d947",
   "metadata": {},
   "outputs": [
    {
     "name": "stdout",
     "output_type": "stream",
     "text": [
      "All Users\n",
      "arpan\n",
      "Default\n",
      "Default User\n",
      "DefaultAppPool\n",
      "desktop.ini\n",
      "Public\n"
     ]
    }
   ],
   "source": [
    "list_directory(r\"C:\\Users\")"
   ]
  },
  {
   "cell_type": "code",
   "execution_count": 194,
   "id": "f5c681ca",
   "metadata": {},
   "outputs": [
    {
     "name": "stdout",
     "output_type": "stream",
     "text": [
      "All Users\n",
      "arpan\n",
      "Default\n",
      "Default User\n",
      "DefaultAppPool\n",
      "desktop.ini\n",
      "Public\n"
     ]
    }
   ],
   "source": [
    "list_directory(\"C://Users\")"
   ]
  },
  {
   "cell_type": "markdown",
   "id": "135346bd",
   "metadata": {},
   "source": [
    "# 8. Write a function which will be able to show your system configuration."
   ]
  },
  {
   "cell_type": "code",
   "execution_count": 195,
   "id": "b9e756ab",
   "metadata": {},
   "outputs": [],
   "source": [
    "#!pip install wmi\n",
    "def sys_confg():\n",
    "    \"\"\"\n",
    "    This function needs to be called to print the system configuration\n",
    "    No input is required for this function\n",
    "    returns none type\n",
    "    \"\"\"\n",
    "    import platform\n",
    "    import wmi\n",
    "    import shutil\n",
    "    \n",
    "    my_system = platform.uname()\n",
    "    c = wmi.WMI()\n",
    "    my_sys = c.Win32_ComputerSystem()[0]\n",
    "    \n",
    "    print(f\"System: {my_system.system}\")\n",
    "    #print(f\"Node Name: {my_system.node}\")\n",
    "    print(f\"Release: {my_system.release}\")\n",
    "    print(f\"Version: {my_system.version}\")\n",
    "    print(f\"Machine: {my_system.machine}\")\n",
    "    print(f\"Processor: {my_system.processor}\")\n",
    "    print(\"\\n\")\n",
    "    print(\"Primary Drive Size:\",round(shutil.disk_usage(\"/\").total/1024 ** 3,2) , \"GB\")\n",
    "    print(\"\\n\")\n",
    "    print(f\"Manufacturer: {my_sys.Manufacturer}\")\n",
    "    print(f\"Model: {my_sys. Model}\")\n",
    "    print(f\"Name: {my_sys.Name}\")\n",
    "    print(f\"NumberOfProcessors: {my_sys.NumberOfProcessors}\")\n",
    "    print(f\"SystemType: {my_sys.SystemType}\")\n",
    "    print(f\"SystemFamily: {my_sys.SystemFamily}\")\n",
    "    print(f\"PrimaryOwnerName: {my_sys.PrimaryOwnerName}\")\n",
    "    print(f\"TotalPhysicalMemory: { round(int(my_sys.TotalPhysicalMemory)/1024 ** 3)} GB\")\n",
    "    print(f\"Domain: {my_sys.Domain}\")\n",
    "     \n",
    "    \n",
    "    #print('\\n\\n')\n",
    "    #print(f\"{my_sys}, {my_system}\")\n",
    "     "
   ]
  },
  {
   "cell_type": "code",
   "execution_count": 196,
   "id": "8268b375",
   "metadata": {},
   "outputs": [
    {
     "name": "stdout",
     "output_type": "stream",
     "text": [
      "System: Windows\n",
      "Release: 10\n",
      "Version: 10.0.22000\n",
      "Machine: AMD64\n",
      "Processor: Intel64 Family 6 Model 140 Stepping 1, GenuineIntel\n",
      "\n",
      "\n",
      "Primary Drive Size: 553.08 GB\n",
      "\n",
      "\n",
      "Manufacturer: HP\n",
      "Model: HP Pavilion Laptop 14-dv0xxx\n",
      "Name: LAPTOP-KD256KS3\n",
      "NumberOfProcessors: 1\n",
      "SystemType: x64-based PC\n",
      "SystemFamily: 103C_5335KV HP Pavilion\n",
      "PrimaryOwnerName: arpanmaity838383@gmail.com\n",
      "TotalPhysicalMemory: 16 GB\n",
      "Domain: WORKGROUP\n"
     ]
    }
   ],
   "source": [
    "sys_confg()"
   ]
  },
  {
   "cell_type": "markdown",
   "id": "2e0ff067",
   "metadata": {},
   "source": [
    "# 9. Write a function which will be able to show date and time. "
   ]
  },
  {
   "cell_type": "code",
   "execution_count": 197,
   "id": "b35e402c",
   "metadata": {},
   "outputs": [],
   "source": [
    "def cur_dt_tm():\n",
    "    \"\"\"\n",
    "    This function will print the current date, time, weekday and month\n",
    "    No input is required for this function\n",
    "    returns none type\n",
    "    \"\"\"\n",
    "    import datetime\n",
    "    e = datetime.datetime.now()\n",
    "    print (e.strftime(\"DATE : %d-%m-%Y \\nTIME : %H:%M:%S.%f (%I:%M:%S %p) \\nWEEKDAY : %A \\nMONTH : %B\"))"
   ]
  },
  {
   "cell_type": "code",
   "execution_count": 198,
   "id": "e0b72ff8",
   "metadata": {},
   "outputs": [
    {
     "name": "stdout",
     "output_type": "stream",
     "text": [
      "DATE : 30-12-2021 \n",
      "TIME : 00:06:37.176785 (12:06:37 AM) \n",
      "WEEKDAY : Thursday \n",
      "MONTH : December\n"
     ]
    }
   ],
   "source": [
    "cur_dt_tm()"
   ]
  },
  {
   "cell_type": "markdown",
   "id": "c41decec",
   "metadata": {},
   "source": [
    "# 10 . Write a function which will be able to read a image file and show it to you."
   ]
  },
  {
   "cell_type": "code",
   "execution_count": 202,
   "id": "47ed5ef7",
   "metadata": {},
   "outputs": [],
   "source": [
    "def img_show(img_p):\n",
    "    \"\"\"\n",
    "    This function will show the image.\n",
    "    Input will be the file path of the image.\n",
    "    \n",
    "    Pass the directory as string mentioned\n",
    "    \n",
    "    Since paths can contain backslashes, we need to prevent backslashes from\n",
    "    being used as the escape character. A common technique is to escape the backslash.\n",
    "    example : \"C://Program Files (x86)\"\n",
    "    \n",
    "    Another way is to convert paths into Python raw strings using the r directive,\n",
    "    as shown below. This instructs Python to ignore backslashes\n",
    "    example : r\"C:\\Program Files\"\n",
    "    \"\"\"\n",
    "    from PIL import Image\n",
    "    img = Image.open(img_p)\n",
    "    img.show()\n",
    "    #print(img.format)\n",
    "    #print(img.mode)"
   ]
  },
  {
   "cell_type": "code",
   "execution_count": 203,
   "id": "fe72328c",
   "metadata": {},
   "outputs": [],
   "source": [
    "img_show(r'E:\\IMG.jpg')"
   ]
  },
  {
   "cell_type": "code",
   "execution_count": 204,
   "id": "33a15548",
   "metadata": {},
   "outputs": [],
   "source": [
    "img_show('E://IMG.jpg')"
   ]
  },
  {
   "cell_type": "markdown",
   "id": "a90fd306",
   "metadata": {},
   "source": [
    "# 11. Write a function which can read video file and play for you."
   ]
  },
  {
   "cell_type": "code",
   "execution_count": 1,
   "id": "642e066a",
   "metadata": {},
   "outputs": [],
   "source": [
    "def vid_pl(dir1):\n",
    "    \"\"\"\n",
    "    Create a VideoCapture object and read from input file\n",
    "    If the input is the camera,\n",
    "    then pass 0 instead of the video file name and press q to quit\n",
    "    \n",
    "    If the input is a video file,\n",
    "    then pass the file path and press q to quit\n",
    "    \"\"\"\n",
    "    import cv2\n",
    "    cap = cv2.VideoCapture(dir1)\n",
    "    #cap = cv2.VideoCapture(0)\n",
    "\n",
    "    # Check if camera opened successfully\n",
    "    if (cap.isOpened()== False):\n",
    "        print(\"Error opening video stream or file\")\n",
    "    # Read until video is completed\n",
    "    while (cap.isOpened()):\n",
    "        # Capture frame-by-frame\n",
    "        ret, frame = cap.read()\n",
    "        if ret == True:\n",
    "            # Display the resulting frame\n",
    "            cv2.imshow('My Video Player', frame)\n",
    "\n",
    "            # Press Q on keyboard to  exit\n",
    "            if cv2.waitKey(30) & 0xFF == ord('q'):\n",
    "                break\n",
    "\n",
    "        # Break the loop\n",
    "        else:\n",
    "            break\n",
    "     # When everything done, release the video capture object\n",
    "    cap.release()\n",
    "\n",
    "    # Closes all the frames\n",
    "    cv2.destroyAllWindows()"
   ]
  },
  {
   "cell_type": "code",
   "execution_count": 2,
   "id": "8783d40f",
   "metadata": {},
   "outputs": [],
   "source": [
    "vid_pl(0)     # press q to quit"
   ]
  },
  {
   "cell_type": "code",
   "execution_count": 3,
   "id": "a23a7160",
   "metadata": {},
   "outputs": [],
   "source": [
    "vid_pl(\"E://vid.mp4\")"
   ]
  },
  {
   "cell_type": "code",
   "execution_count": 4,
   "id": "b72169e8",
   "metadata": {},
   "outputs": [],
   "source": [
    "vid_pl(r\"E:\\vid.mp4\")"
   ]
  },
  {
   "cell_type": "markdown",
   "id": "66901b1e",
   "metadata": {},
   "source": [
    "# 12. Write a function which can move a file from one directory to another directory."
   ]
  },
  {
   "cell_type": "code",
   "execution_count": 6,
   "id": "f954d781",
   "metadata": {},
   "outputs": [],
   "source": [
    "def file_mov(source, destination, f):\n",
    "    \"\"\"\n",
    "    This function will help to move file from one directory to another directory\n",
    "    Inputs will be as (source_dir, target_dir, file_name)\n",
    "    If the file movement was successful it will print the same.\n",
    "    \"\"\"\n",
    "    import os\n",
    "    try:\n",
    "        allfiles = os.listdir(source)\n",
    "        k = os.rename(source + \"//\" +f, destination + \"//\" +f)\n",
    "        print(\"File Movement Successfully\")\n",
    "    except:\n",
    "        for fil in allfiles:\n",
    "            if(fil == f):\n",
    "                print(\"File is present in the directory\")\n",
    "                break\n",
    "            else:\n",
    "                print(\"File is not present in the directory\")\n",
    "        try:\n",
    "            os.chdir(destination)\n",
    "            print(\"Destination dir is correct\")\n",
    "        except:\n",
    "            print(\"Destination dir is not correct\")\n",
    "        print(\"Issue With File Movement\")\n",
    "    "
   ]
  },
  {
   "cell_type": "code",
   "execution_count": 7,
   "id": "b358dcac",
   "metadata": {},
   "outputs": [
    {
     "name": "stdout",
     "output_type": "stream",
     "text": [
      "File Movement Successfully\n"
     ]
    }
   ],
   "source": [
    "file_mov(\"E://src//\",\"E://tgt//\", \"a.txt\")"
   ]
  },
  {
   "cell_type": "code",
   "execution_count": 8,
   "id": "bdbc8c22",
   "metadata": {},
   "outputs": [
    {
     "name": "stdout",
     "output_type": "stream",
     "text": [
      "File is present in the directory\n",
      "Destination dir is not correct\n",
      "Issue With File Movement\n"
     ]
    }
   ],
   "source": [
    "file_mov(r\"E:\\src\",r\"E:\\tgt\\r\", \"b.txt\")"
   ]
  },
  {
   "cell_type": "code",
   "execution_count": 9,
   "id": "c83f647f",
   "metadata": {
    "scrolled": true
   },
   "outputs": [
    {
     "name": "stdout",
     "output_type": "stream",
     "text": [
      "File is not present in the directory\n",
      "Destination dir is correct\n",
      "Issue With File Movement\n"
     ]
    }
   ],
   "source": [
    "file_mov(\"E://src\",\"E://tgt//\", \"c.txt\")"
   ]
  },
  {
   "cell_type": "code",
   "execution_count": 10,
   "id": "80b28ac5",
   "metadata": {},
   "outputs": [
    {
     "name": "stdout",
     "output_type": "stream",
     "text": [
      "File is present in the directory\n",
      "Destination dir is not correct\n",
      "Issue With File Movement\n"
     ]
    }
   ],
   "source": [
    "file_mov(\"E://src\",\"E://tgt//ee\", \"b.txt\")"
   ]
  },
  {
   "cell_type": "markdown",
   "id": "2834fc56",
   "metadata": {},
   "source": [
    "# 13. Write a function which will be able to shutdown your system. "
   ]
  },
  {
   "cell_type": "code",
   "execution_count": 2,
   "id": "451136b0",
   "metadata": {},
   "outputs": [],
   "source": [
    "def shutdown_sys(shutdown):\n",
    "    \"\"\"\n",
    "    This Function will shutdown yours system in 60 seconds.\n",
    "    Input will be 'yes' or 'no' \n",
    "    Incase of any other values it will ask you for input time and again\n",
    "    \"\"\"\n",
    "    import os\n",
    "    if shutdown == 'no':\n",
    "        exit()\n",
    "    elif shutdown == 'yes':\n",
    "        os.system(\"shutdown /s /t 1\")\n",
    "    else:\n",
    "        shutdown_sys(input())"
   ]
  },
  {
   "cell_type": "code",
   "execution_count": 12,
   "id": "8dda2885",
   "metadata": {},
   "outputs": [],
   "source": [
    "shutdown_sys('no')"
   ]
  },
  {
   "cell_type": "code",
   "execution_count": null,
   "id": "19a173ec",
   "metadata": {
    "scrolled": true
   },
   "outputs": [],
   "source": [
    "shutdown_sys('yes')"
   ]
  },
  {
   "cell_type": "code",
   "execution_count": 3,
   "id": "092f260b",
   "metadata": {},
   "outputs": [
    {
     "name": "stdout",
     "output_type": "stream",
     "text": [
      "no\n"
     ]
    }
   ],
   "source": [
    "shutdown_sys('not')"
   ]
  },
  {
   "cell_type": "markdown",
   "id": "87e95ba2",
   "metadata": {},
   "source": [
    "# 14. Write a function which will be able to access your mail."
   ]
  },
  {
   "cell_type": "code",
   "execution_count": 6,
   "id": "e1dd7ba3",
   "metadata": {},
   "outputs": [],
   "source": [
    "# Manage your Google Account -> Security -> Less secure app access\n",
    "# Allow less secure apps: ON\n",
    "\n",
    "import smtplib\n",
    "import time\n",
    "import imaplib\n",
    "import email\n",
    "import traceback \n",
    "# -------------------------------------------------\n",
    "#\n",
    "# Utility to read email from Gmail Using Python\n",
    "#\n",
    "# ------------------------------------------------\n",
    "\n",
    "def read_email_from_gmail(FROM_EMAIL, FROM_PWD):\n",
    "    \"\"\"\n",
    "    This function is used to print the sender email address and the subject line of the mail\n",
    "    Input must be having the mail address and the password to access mail\n",
    "    \"\"\"\n",
    "    SMTP_SERVER = \"imap.gmail.com\" \n",
    "    SMTP_PORT = 993\n",
    "    try:\n",
    "        mail = imaplib.IMAP4_SSL(SMTP_SERVER)\n",
    "        mail.login(FROM_EMAIL,FROM_PWD)\n",
    "        mail.select('inbox')\n",
    "\n",
    "        data = mail.search(None, 'ALL')\n",
    "        mail_ids = data[1]\n",
    "        id_list = mail_ids[0].split()\n",
    "        first_email_id = int(id_list[0])\n",
    "        latest_email_id = int(id_list[-1])\n",
    "\n",
    "        for i in range(latest_email_id,first_email_id-1, -1):\n",
    "            data = mail.fetch(str(i), '(RFC822)' )\n",
    "            for response_part in data:\n",
    "                arr = response_part[0]\n",
    "                if isinstance(arr, tuple):\n",
    "                    msg = email.message_from_string(str(arr[1],'utf-8'))\n",
    "                    email_subject = msg['subject']\n",
    "                    email_from = msg['from']\n",
    "                    print('From : ' + email_from + '\\r')\n",
    "                    print('Subject : ' + email_subject + '\\n')\n",
    "                    \n",
    "    except Exception as e:\n",
    "        traceback.print_exc() \n",
    "        print(str(e))"
   ]
  },
  {
   "cell_type": "code",
   "execution_count": 4,
   "id": "0bc2c4cc",
   "metadata": {},
   "outputs": [
    {
     "name": "stdout",
     "output_type": "stream",
     "text": [
      "From : Google <no-reply@accounts.google.com>\n",
      "Subject : Critical security alert\n",
      "\n",
      "From : =?utf-8?Q?Travefy?= <professional@travefy.com>\n",
      "Subject : =?utf-8?Q?A=20Look=20Back=20At=202021=E2=80=A6=20Hold=20On=20To=20Your=20Seat=21=C2=A0=F0=9F=92=A5?=\n",
      "\n",
      "From : Twitter <info@twitter.com>\n",
      "Subject : srirup padhyay, did you see that great Tweet?\n",
      "\n",
      "From : \"ZbigZ\" <news@zbigz.com>\n",
      "Subject : You are missing joy of unlimited ZbigZ. Why not upgrade?\n",
      "\n",
      "From : notification@zbigz.com\n",
      "Subject : zbigz.com download complete\n",
      "\n",
      "From : =?UTF-8?B?U2h1dHRlcnN0b2Nr?= <shutterstock@e.shutterstock.com>\n",
      "Subject : Download your free image of the week.\n",
      "\n",
      "From : Test Test <selenium932@gmail.com>\n",
      "Subject : BBBBB\n",
      "\n",
      "From : Test Test <selenium932@gmail.com>\n",
      "Subject : CCCCC\n",
      "\n",
      "From : Test Test <selenium932@gmail.com>\n",
      "Subject : KKKKK\n",
      "\n",
      "From : Test Test <selenium932@gmail.com>\n",
      "Subject : WWWW\n",
      "\n",
      "From : Test Test <selenium932@gmail.com>\n",
      "Subject : AAAAAA\n",
      "\n"
     ]
    }
   ],
   "source": [
    "read_email_from_gmail(\"abc@gmail.com\",\"pwd\")"
   ]
  },
  {
   "cell_type": "markdown",
   "id": "c80a3e26",
   "metadata": {},
   "source": [
    "# 15. Write a function by which I can send a mail to anyone. "
   ]
  },
  {
   "cell_type": "code",
   "execution_count": null,
   "id": "f0a1508a",
   "metadata": {},
   "outputs": [],
   "source": [
    "def send_mail_smtp(FROM_EMAIL_ADDRESS,PASSWORD,TO_EMAIL_ADDRESS,MESSAGE):\n",
    "    \"\"\"\n",
    "    This function is used to print the sender email address and the subject line of the mail\n",
    "    Input must be having the mail address, the password, sender mail and the message\n",
    "    \"\"\"\n",
    "    import smtplib\n",
    "    server = smtplib.SMTP_SSL('smtp.gmail.com',465)\n",
    "    server.login(FROM_EMAIL_ADDRESS,PASSWORD)\n",
    "    server.sendmail(FROM_EMAIL_ADDRESS,TO_EMAIL_ADDRESS,MESSAGE)"
   ]
  },
  {
   "cell_type": "code",
   "execution_count": null,
   "id": "d5bc72d0",
   "metadata": {},
   "outputs": [],
   "source": [
    "send_mail_smtp(\"abc@gmail.com\",\"pwd\",\"ccc@gmail.com\",\"Sent Mail Successfull (SMTP_SSL) - Arpan Maity\")"
   ]
  },
  {
   "cell_type": "code",
   "execution_count": null,
   "id": "2afa1ae8",
   "metadata": {},
   "outputs": [],
   "source": [
    "def send_mail_smtp1(FROM_EMAIL_ADDRESS,PASSWORD,TO_EMAIL_ADDRESS,MESSAGE):\n",
    "    \"\"\"\n",
    "    This function is used to print the sender email address and the subject line of the mail\n",
    "    Input must be having the mail address, the password, sender mail and the message\n",
    "    \"\"\"\n",
    "    import smtplib\n",
    "    server = smtplib.SMTP('smtp.gmail.com',587)\n",
    "    server.starttls()\n",
    "    server.login(FROM_EMAIL_ADDRESS,PASSWORD)\n",
    "    server.sendmail(FROM_EMAIL_ADDRESS,TO_EMAIL_ADDRESS,MESSAGE)"
   ]
  },
  {
   "cell_type": "code",
   "execution_count": null,
   "id": "651da876",
   "metadata": {},
   "outputs": [],
   "source": [
    "send_mail_smtp1(\"abc@gmail.com\",\"pwd\",\"ccc@gmail.com\",\"Sent Mail Successfull (SMTP) - Arpan Maity\")"
   ]
  },
  {
   "cell_type": "markdown",
   "id": "0dd6e52a",
   "metadata": {},
   "source": [
    "# 16. write a function to read a complete PDf file."
   ]
  },
  {
   "cell_type": "code",
   "execution_count": 11,
   "id": "618ab30b",
   "metadata": {},
   "outputs": [],
   "source": [
    "#!pip install PyPDF2\n",
    "\n",
    "def read_pdf(dirr, file):\n",
    "    \"\"\"\n",
    "    This Function will help to read pdf file.\n",
    "    Input contains the dir and the file path to read the file\n",
    "    \"\"\"\n",
    "\n",
    "    # importing required modules\n",
    "    import PyPDF2\n",
    "    \n",
    "    # creating a pdf file object\n",
    "    pdfFileObj = open(dirr+\"/\"+file, 'rb')\n",
    "\n",
    "    # creating a pdf reader object\n",
    "    pdfReader = PyPDF2.PdfFileReader(pdfFileObj)\n",
    "\n",
    "    # printing number of pages in pdf file\n",
    "\n",
    "    # creating a page object\n",
    "    for i in range(0,pdfReader.getNumPages(),1):\n",
    "        pageObj = pdfReader.getPage(i)\n",
    "        # extracting text from page\n",
    "        print(pageObj.extractText())\n",
    "\n",
    "        # closing the pdf file object\n",
    "    pdfFileObj.close()"
   ]
  },
  {
   "cell_type": "code",
   "execution_count": 13,
   "id": "0b8907d2",
   "metadata": {},
   "outputs": [
    {
     "name": "stdout",
     "output_type": "stream",
     "text": [
      "1 . you have to write a fun which will take string and return a len of \n",
      " \n",
      "it without using a inbuilt fun len\n",
      " \n",
      "2 . write a fun which will be able to print an index of all premitive element which you will pass \n",
      " \n",
      "3 . Write a fun which will take input as a dict and give me out as a list of all the values \n",
      " \n",
      "even in case of 2 level nesting it should work . \n",
      " \n",
      "4 . write a fu\n",
      "n which will take another function as an input and return me an output \n",
      " \n",
      "5. write a function whihc will take multiple list as a input and give me concatnation of all the element \n",
      "as \n",
      " \n",
      "and output \n",
      " \n",
      "6 . write a function which will be able to take a list as an in\n",
      "put return an index of each element \n",
      " \n",
      "like a inbuilt index function but even if we have repetative element it should return index \n",
      " \n",
      "7 . Write a function which will whould return list of all the file name from a directory . \n",
      " \n",
      "8  . write a function which will b\n",
      "e able to show your system configuration . \n",
      " \n",
      "9 . write a function which will be able to show date and time  . \n",
      " \n",
      "10 . write a function whihc will be able to read a image file and show it to you .\n",
      " \n",
      "11 . write a function which can read video file and play for yo\n",
      "u . \n",
      " \n",
      "12  . write a function whihc can move a file from one directory to another directory . \n",
      " \n",
      "13 . write a function which will be able to shutdonw your system . \n",
      " \n",
      "14 . write a function whihc will be able to access your mail . \n",
      " \n",
      "15 . write a func bywhcih i can\n",
      " \n",
      "send a mail to anyone \n",
      " \n",
      "16. write a func to read a complete PDf file . \n",
      " \n",
      "17. write a function to read a word file . \n",
      " \n",
      "18 . write a function which can help you to filter only word file from a directory . \n",
      " \n",
      "19 . write a function by which you can print an ip add\n",
      "ress of your system . \n",
      " \n",
      "20 . write a function by whihc you will be able to append two PDF files .\n",
      " \n",
      "\n"
     ]
    }
   ],
   "source": [
    "read_pdf(\"E://\", \"doc.pdf\")"
   ]
  },
  {
   "cell_type": "markdown",
   "id": "a06e09ef",
   "metadata": {},
   "source": [
    "# 17. Write a function to read a word file. "
   ]
  },
  {
   "cell_type": "code",
   "execution_count": 14,
   "id": "5a776bce",
   "metadata": {},
   "outputs": [],
   "source": [
    "#!pip install docx2txt\n",
    "\n",
    "def read_doc(dirr, file):\n",
    "    \"\"\"\n",
    "    This Function will help to read pdf file.\n",
    "    Input contains the dir and the file path to read the file\n",
    "    \"\"\"\n",
    "    import docx2txt\n",
    "    \n",
    "    my_text = docx2txt.process(dirr+\"//\"+file)\n",
    "    print(my_text)"
   ]
  },
  {
   "cell_type": "code",
   "execution_count": 17,
   "id": "306ddbd6",
   "metadata": {},
   "outputs": [
    {
     "name": "stdout",
     "output_type": "stream",
     "text": [
      "1 . you have to write a fun which will take string and return a len of \n",
      "\n",
      "it without using a inbuilt fun len\n",
      "\n",
      "2 . write a fun which will be able to print an index of all premitive element which you will pass \n",
      "\n",
      "3 . Write a fun which will take input as a dict and give me out as a list of all the values \n",
      "\n",
      "even in case of 2 level nesting it should work . \n",
      "\n",
      "4 . write a fun which will take another function as an input and return me an output \n",
      "\n",
      "5. write a function whihc will take multiple list as a input and give me concatnation of all the element as \n",
      "\n",
      "and output \n",
      "\n",
      "6 . write a function which will be able to take a list as an input return an index of each element \n",
      "\n",
      "like a inbuilt index function but even if we have repetative element it should return index \n",
      "\n",
      "7 . Write a function which will whould return list of all the file name from a directory . \n",
      "\n",
      "8  . write a function which will be able to show your system configuration . \n",
      "\n",
      "9 . write a function which will be able to show date and time  . \n",
      "\n",
      "10 . write a function whihc will be able to read a image file and show it to you .\n",
      "\n",
      "11 . write a function which can read video file and play for you . \n",
      "\n",
      "12  . write a function whihc can move a file from one directory to another directory . \n",
      "\n",
      "13 . write a function which will be able to shutdonw your system . \n",
      "\n",
      "14 . write a function whihc will be able to access your mail . \n",
      "\n",
      "15 . write a func bywhcih i can send a mail to anyone \n",
      "\n",
      "16. write a func to read a complete PDf file . \n",
      "\n",
      "17. write a function to read a word file . \n",
      "\n",
      "18 . write a function which can help you to filter only word file from a directory . \n",
      "\n",
      "19 . write a function by which you can print an ip address of your system . \n",
      "\n",
      "20 . write a function by whihc you will be able to append two PDF files .\n"
     ]
    }
   ],
   "source": [
    "read_doc(\"E://\",\"doc.docx\")"
   ]
  },
  {
   "cell_type": "code",
   "execution_count": 19,
   "id": "badaa04a",
   "metadata": {},
   "outputs": [
    {
     "name": "stdout",
     "output_type": "stream",
     "text": [
      "1 . you have to write a fun which will take string and return a len of \n",
      "\n",
      "it without using a inbuilt fun len\n",
      "\n",
      "2 . write a fun which will be able to print an index of all premitive element which you will pass \n",
      "\n",
      "3 . Write a fun which will take input as a dict and give me out as a list of all the values \n",
      "\n",
      "even in case of 2 level nesting it should work . \n",
      "\n",
      "4 . write a fun which will take another function as an input and return me an output \n",
      "\n",
      "5. write a function whihc will take multiple list as a input and give me concatnation of all the element as \n",
      "\n",
      "and output \n",
      "\n",
      "6 . write a function which will be able to take a list as an input return an index of each element \n",
      "\n",
      "like a inbuilt index function but even if we have repetative element it should return index \n",
      "\n",
      "7 . Write a function which will whould return list of all the file name from a directory . \n",
      "\n",
      "8  . write a function which will be able to show your system configuration . \n",
      "\n",
      "9 . write a function which will be able to show date and time  . \n",
      "\n",
      "10 . write a function whihc will be able to read a image file and show it to you .\n",
      "\n",
      "11 . write a function which can read video file and play for you . \n",
      "\n",
      "12  . write a function whihc can move a file from one directory to another directory . \n",
      "\n",
      "13 . write a function which will be able to shutdonw your system . \n",
      "\n",
      "14 . write a function whihc will be able to access your mail . \n",
      "\n",
      "15 . write a func bywhcih i can send a mail to anyone \n",
      "\n",
      "16. write a func to read a complete PDf file . \n",
      "\n",
      "17. write a function to read a word file . \n",
      "\n",
      "18 . write a function which can help you to filter only word file from a directory . \n",
      "\n",
      "19 . write a function by which you can print an ip address of your system . \n",
      "\n",
      "20 . write a function by whihc you will be able to append two PDF files .\n"
     ]
    }
   ],
   "source": [
    "read_doc(r\"E:\",\"doc.docx\")"
   ]
  },
  {
   "cell_type": "markdown",
   "id": "13c1a173",
   "metadata": {},
   "source": [
    "# 18. Write a function which can help you to filter only word file from a directory. "
   ]
  },
  {
   "cell_type": "code",
   "execution_count": 20,
   "id": "3ac172c3",
   "metadata": {},
   "outputs": [],
   "source": [
    "def list_directory(path):\n",
    "    \"\"\"\n",
    "    Input will the directory\n",
    "    Output will show doc and docx files present in that directory\n",
    "    \"\"\"\n",
    "    import os\n",
    "    files = os.listdir(path)\n",
    "    for f in files:\n",
    "        cc = ''\n",
    "        for i in range(len(f)-4,len(f)):\n",
    "            #print(f[i], end= '')\n",
    "            cc = cc+f[i]\n",
    "            if(cc == 'docx' or cc == '.doc'):\n",
    "                print(f,'\\r')"
   ]
  },
  {
   "cell_type": "code",
   "execution_count": 42,
   "id": "1a21bc7c",
   "metadata": {},
   "outputs": [
    {
     "name": "stdout",
     "output_type": "stream",
     "text": [
      "!qhlogs.doc \r\n",
      "doc.doc \r\n",
      "doc.docx \r\n"
     ]
    }
   ],
   "source": [
    "list_directory(r\"E:\")"
   ]
  },
  {
   "cell_type": "markdown",
   "id": "8612ec90",
   "metadata": {},
   "source": [
    "# 19. Write a function by which can print an ip address of your system. "
   ]
  },
  {
   "cell_type": "code",
   "execution_count": 38,
   "id": "01784785",
   "metadata": {},
   "outputs": [],
   "source": [
    "## importing socket module\n",
    "import socket\n",
    "## getting the hostname by socket.gethostname() method\n",
    "\n",
    "def get_ip_addr():\n",
    "    \"\"\"\n",
    "    This function will help to know the system ip of the device\n",
    "    \"\"\"\n",
    "    hostname = socket.gethostname()\n",
    "    ## getting the IP address using socket.gethostbyname() method\n",
    "    ip_address = socket.gethostbyname(hostname)\n",
    "    ## printing the hostname and ip_address\n",
    "    print(f\"Your System IP Address: {ip_address}\")"
   ]
  },
  {
   "cell_type": "code",
   "execution_count": 27,
   "id": "b6e1e448",
   "metadata": {},
   "outputs": [
    {
     "name": "stdout",
     "output_type": "stream",
     "text": [
      "Your System IP Address: 192.168.0.156\n"
     ]
    }
   ],
   "source": [
    "get_ip_addr()"
   ]
  },
  {
   "cell_type": "markdown",
   "id": "9726e9b9",
   "metadata": {},
   "source": [
    "# 20. Write a function by which you will be able to append two PDF files. "
   ]
  },
  {
   "cell_type": "code",
   "execution_count": 36,
   "id": "8b1425fc",
   "metadata": {},
   "outputs": [],
   "source": [
    "import PyPDF2 \n",
    "\n",
    "def pdf_merge(pd1dir,pd1f,pd2dir,pd2f,pdmfdir,pdfmf):\n",
    "    \n",
    "    \"\"\"\n",
    "    This function will help to merge two pdf files.\n",
    "    Input contains -> file directory of pdf 1 file\n",
    "                      file name of pdf 1 file\n",
    "                      file directory of pdf 2 file\n",
    "                      file name of pdf 2 file\n",
    "                      file directory of merged pdf file\n",
    "                      file name of merged pdf file\n",
    "    \"\"\"\n",
    "\n",
    "    # Open the files that have to be merged one by one\n",
    "    #pdf1File = open(\"C:/Users/arpan/OneDrive/Desktop/cv.pdf\", 'rb')\n",
    "    #pdf2File = open(\"C:/Users/arpan/OneDrive/Desktop/mydoc.pdf\", 'rb')\n",
    "    \n",
    "    pdf1File = open(pd1dir+\"/\"+pd1f, 'rb')\n",
    "    pdf2File = open(pd2dir+\"/\"+pd2f, 'rb')\n",
    "    \n",
    "    #dirr+\"/\"+file\n",
    "\n",
    "    # Read the files that you have opened\n",
    "    pdf1Reader = PyPDF2.PdfFileReader(pdf1File)\n",
    "    pdf2Reader = PyPDF2.PdfFileReader(pdf2File)\n",
    "\n",
    "    # Create a new PdfFileWriter object which represents a blank PDF document\n",
    "    pdfWriter = PyPDF2.PdfFileWriter()\n",
    "\n",
    "    # Loop through all the pagenumbers for the first document\n",
    "    for pageNum in range(pdf1Reader.numPages):\n",
    "        pageObj = pdf1Reader.getPage(pageNum)\n",
    "        pdfWriter.addPage(pageObj)\n",
    "\n",
    "    # Loop through all the pagenumbers for the second document\n",
    "    for pageNum in range(pdf2Reader.numPages):\n",
    "        pageObj = pdf2Reader.getPage(pageNum)\n",
    "        pdfWriter.addPage(pageObj)\n",
    "\n",
    "    # Now that you have copied all the pages in both the documents, write them into the a new document\n",
    "    pdfOutputFile = open(pdmfdir+\"/\"+pdfmf, 'wb')\n",
    "    pdfWriter.write(pdfOutputFile)\n",
    "\n",
    "    # Close all the files - Created as well as opened\n",
    "    pdfOutputFile.close()\n",
    "    pdf1File.close()\n",
    "    pdf2File.close()"
   ]
  },
  {
   "cell_type": "code",
   "execution_count": 37,
   "id": "78b57af7",
   "metadata": {},
   "outputs": [],
   "source": [
    "pdf_merge(\"E:/\",\"cv.pdf\",\"E:/\",\"mydoc.pdf\",\"E:/\",\"merged.pdf\")"
   ]
  },
  {
   "cell_type": "code",
   "execution_count": null,
   "id": "24974f60",
   "metadata": {},
   "outputs": [],
   "source": []
  }
 ],
 "metadata": {
  "kernelspec": {
   "display_name": "Python 3 (ipykernel)",
   "language": "python",
   "name": "python3"
  },
  "language_info": {
   "codemirror_mode": {
    "name": "ipython",
    "version": 3
   },
   "file_extension": ".py",
   "mimetype": "text/x-python",
   "name": "python",
   "nbconvert_exporter": "python",
   "pygments_lexer": "ipython3",
   "version": "3.9.7"
  }
 },
 "nbformat": 4,
 "nbformat_minor": 5
}
